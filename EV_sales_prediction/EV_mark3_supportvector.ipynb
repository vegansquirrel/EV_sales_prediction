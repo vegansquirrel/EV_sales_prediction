{
 "cells": [
  {
   "cell_type": "code",
   "execution_count": 2,
   "metadata": {},
   "outputs": [
    {
     "name": "stdout",
     "output_type": "stream",
     "text": [
      "Mean Squared Error (MSE): 44699932382.76291\n",
      "   year     region powertrain         value\n",
      "0  2023  Australia        BEV  12269.695882\n",
      "1  2024  Australia        BEV  13343.225294\n",
      "2  2025  Australia        BEV  14416.754706\n"
     ]
    }
   ],
   "source": [
    "import pandas as pd\n",
    "from sklearn.svm import SVR\n",
    "from sklearn.model_selection import train_test_split, GridSearchCV\n",
    "from sklearn.metrics import mean_squared_error\n",
    "import numpy as np\n",
    "\n",
    "# Load the dataset\n",
    "df = pd.read_csv('IEA-EV-dataEV_salesCarsHistorical.csv')\n",
    "\n",
    "data = df.drop(['category', 'parameter', 'mode', 'unit'], axis=1)\n",
    "encoded_data = pd.get_dummies(data, columns=['region', 'powertrain'])\n",
    "\n",
    "feat = encoded_data.drop('value', axis=1)\n",
    "y = encoded_data['value']\n",
    "\n",
    "X_train, X_test, y_train, y_test = train_test_split(feat, y, test_size=0.2, random_state=42)\n",
    "\n",
    "# Define the parameter grid for hyperparameter tuning\n",
    "param_grid = {\n",
    "    'C': [0.1, 1, 10],\n",
    "    'epsilon': [0.01, 0.1, 0.2],\n",
    "    'kernel': ['linear', 'rbf']\n",
    "}\n",
    "\n",
    "# Create an SVR model\n",
    "model = SVR()\n",
    "\n",
    "# Perform grid search to find the best hyperparameters\n",
    "grid_search = GridSearchCV(estimator=model, param_grid=param_grid, scoring='neg_mean_squared_error', cv=5)\n",
    "grid_search.fit(X_train, y_train)\n",
    "\n",
    "# Get the best SVR model from the grid search\n",
    "best_model = grid_search.best_estimator_\n",
    "\n",
    "# Predict the values for future years\n",
    "future_predictions = best_model.predict(X_test)\n",
    "\n",
    "# Calculate the Mean Squared Error (MSE)\n",
    "mse = mean_squared_error(y_test, future_predictions)\n",
    "print(\"Mean Squared Error (MSE):\", mse)\n",
    "\n",
    "# Extract the latest year from the dataset\n",
    "latest_year = data['year'].max()\n",
    "\n",
    "# Create a new DataFrame with future year, region, and powertrain\n",
    "future_data = pd.DataFrame({\n",
    "    'year': [latest_year + 1, latest_year + 2, latest_year + 3],\n",
    "    'region': [data['region'].unique()[0]] * 3,\n",
    "    'powertrain': [data['powertrain'].unique()[0]] * 3\n",
    "})\n",
    "\n",
    "# Perform one-hot encoding on the future data using the original encoder\n",
    "encoded_future_data = pd.get_dummies(future_data, columns=['region', 'powertrain'])\n",
    "\n",
    "# Remove the 'value' column from the encoded future data\n",
    "encoded_future_data = encoded_future_data.reindex(columns=encoded_data.columns, fill_value=0)\n",
    "encoded_future_data = encoded_future_data.drop('value', axis=1)\n",
    "# Predict the values for future years\n",
    "future_predictions = best_model.predict(encoded_future_data)\n",
    "\n",
    "# Create a DataFrame to store the future predictions\n",
    "future_dataset = pd.DataFrame({\n",
    "    'year': future_data['year'],\n",
    "    'region': future_data['region'],\n",
    "    'powertrain': future_data['powertrain'],\n",
    "    'value': future_predictions\n",
    "})\n",
    "\n",
    "# Print the future dataset\n",
    "print(future_dataset)\n"
   ]
  },
  {
   "cell_type": "code",
   "execution_count": null,
   "metadata": {},
   "outputs": [],
   "source": []
  }
 ],
 "metadata": {
  "kernelspec": {
   "display_name": "base",
   "language": "python",
   "name": "python3"
  },
  "language_info": {
   "codemirror_mode": {
    "name": "ipython",
    "version": 3
   },
   "file_extension": ".py",
   "mimetype": "text/x-python",
   "name": "python",
   "nbconvert_exporter": "python",
   "pygments_lexer": "ipython3",
   "version": "3.9.13"
  },
  "orig_nbformat": 4
 },
 "nbformat": 4,
 "nbformat_minor": 2
}
