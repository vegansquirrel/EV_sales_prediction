{
 "cells": [
  {
   "cell_type": "code",
   "execution_count": 42,
   "metadata": {},
   "outputs": [
    {
     "name": "stdout",
     "output_type": "stream",
     "text": [
      "   powertrain  year  value  log_value\n",
      "0         BEV  2011     49   3.891820\n",
      "1         BEV  2012    170   5.135798\n",
      "2        PHEV  2012     80   4.382027\n",
      "3        PHEV  2013    100   4.605170\n",
      "4         BEV  2013    190   5.247024\n",
      "5         BEV  2014    370   5.913503\n",
      "6        PHEV  2014    950   6.856462\n",
      "7        PHEV  2015   1000   6.907755\n",
      "8         BEV  2015    760   6.633318\n",
      "9         BEV  2016    670   6.507278\n",
      "10       PHEV  2016    700   6.551080\n",
      "11       PHEV  2017   1100   7.003065\n",
      "12        BEV  2017   1200   7.090077\n",
      "13        BEV  2018   1800   7.495542\n",
      "14       PHEV  2018   1800   7.495542\n",
      "15       PHEV  2019   2900   7.972466\n",
      "16        BEV  2019   6300   8.748305\n",
      "17        BEV  2020   5200   8.556414\n",
      "18       PHEV  2020   1700   7.438384\n",
      "19       PHEV  2021   3400   8.131531\n",
      "20        BEV  2021  17000   9.740969\n",
      "21        BEV  2022  33000  10.404263\n",
      "22       PHEV  2022   5900   8.682708\n"
     ]
    }
   ],
   "source": [
    "import pandas as pd\n",
    "import matplotlib.pyplot as plt\n",
    "from sklearn.linear_model import LinearRegression\n",
    "import numpy as np\n",
    "# Read the CSV file into a DataFrame\n",
    "df = pd.read_csv('IEA-EV-dataEV_salesCarsHistorical.csv')\n",
    "# Extract rows 10 to 20 (inclusive)\n",
    "selected_rows = df.iloc[0:23]\n",
    "\n",
    "# Create a new DataFrame from the selected rows\n",
    "separate_dataset = pd.DataFrame(selected_rows)\n",
    "\n",
    "# Reset the index of the separate dataset\n",
    "separate_dataset.reset_index(drop=True, inplace=True)\n",
    "\n",
    "df_old= separate_dataset.drop(['region','category','parameter','mode','unit'],axis=1)\n",
    "\n",
    "# Transform the data\n",
    "df_old['log_value'] = df_old['value'].apply(lambda x: np.log(x))\n",
    "df=df_old\n",
    "print(df_old)"
   ]
  },
  {
   "cell_type": "code",
   "execution_count": 43,
   "metadata": {},
   "outputs": [
    {
     "name": "stdout",
     "output_type": "stream",
     "text": [
      "    powertrain  year  value  log_value\n",
      "0            1  2011     49   3.891820\n",
      "1            1  2012    170   5.135798\n",
      "2            0  2012     80   4.382027\n",
      "3            0  2013    100   4.605170\n",
      "4            1  2013    190   5.247024\n",
      "5            1  2014    370   5.913503\n",
      "6            0  2014    950   6.856462\n",
      "7            0  2015   1000   6.907755\n",
      "8            1  2015    760   6.633318\n",
      "9            1  2016    670   6.507278\n",
      "10           0  2016    700   6.551080\n",
      "11           0  2017   1100   7.003065\n",
      "12           1  2017   1200   7.090077\n",
      "13           1  2018   1800   7.495542\n",
      "14           0  2018   1800   7.495542\n",
      "15           0  2019   2900   7.972466\n",
      "16           1  2019   6300   8.748305\n",
      "17           1  2020   5200   8.556414\n",
      "18           0  2020   1700   7.438384\n",
      "19           0  2021   3400   8.131531\n",
      "20           1  2021  17000   9.740969\n",
      "21           1  2022  33000  10.404263\n",
      "22           0  2022   5900   8.682708\n",
      "    powertrain  year\n",
      "0            1  2011\n",
      "1            1  2012\n",
      "2            0  2012\n",
      "3            0  2013\n",
      "4            1  2013\n",
      "5            1  2014\n",
      "6            0  2014\n",
      "7            0  2015\n",
      "8            1  2015\n",
      "9            1  2016\n",
      "10           0  2016\n",
      "11           0  2017\n",
      "12           1  2017\n",
      "13           1  2018\n",
      "14           0  2018\n",
      "15           0  2019\n",
      "16           1  2019\n",
      "17           1  2020\n",
      "18           0  2020\n",
      "19           0  2021\n",
      "20           1  2021\n",
      "21           1  2022\n",
      "22           0  2022\n"
     ]
    }
   ],
   "source": [
    "df.replace({'powertrain':{'PHEV':0,'BEV':1}},inplace=True)\n",
    "x=df.drop(['log_value','value'],axis=1)\n",
    "y=df[['log_value']]\n",
    "print(df)\n",
    "print(x)\n"
   ]
  },
  {
   "attachments": {},
   "cell_type": "markdown",
   "metadata": {},
   "source": [
    "old_df = powertrain(string),year,value,log_value    \n",
    "df = powertrain,year,value,log_value        \n",
    "x = powertrain,year                            \n",
    "y = log_value"
   ]
  },
  {
   "attachments": {},
   "cell_type": "markdown",
   "metadata": {},
   "source": [
    "fiting (x,y) to linearregression."
   ]
  },
  {
   "cell_type": "code",
   "execution_count": 44,
   "metadata": {},
   "outputs": [
    {
     "data": {
      "text/plain": [
       "LinearRegression()"
      ]
     },
     "execution_count": 44,
     "metadata": {},
     "output_type": "execute_result"
    }
   ],
   "source": [
    "lin_model=LinearRegression()\n",
    "lin_model.fit(x,y)"
   ]
  },
  {
   "attachments": {},
   "cell_type": "markdown",
   "metadata": {},
   "source": [
    "checking error of linear model with previous values"
   ]
  },
  {
   "cell_type": "code",
   "execution_count": 45,
   "metadata": {},
   "outputs": [
    {
     "name": "stdout",
     "output_type": "stream",
     "text": [
      "R squared Error :  0.895582392629686\n"
     ]
    }
   ],
   "source": [
    "#checking error of linear model with previous values\n",
    "from sklearn import metrics\n",
    "#prdiction of training data\n",
    "train_prediction=lin_model.predict(x)\n",
    "# R squared Error\n",
    "error_score = metrics.r2_score(y, train_prediction)\n",
    "print(\"R squared Error : \", error_score)"
   ]
  },
  {
   "attachments": {},
   "cell_type": "markdown",
   "metadata": {},
   "source": [
    "Lasso Regression model"
   ]
  },
  {
   "cell_type": "code",
   "execution_count": 46,
   "metadata": {},
   "outputs": [
    {
     "data": {
      "text/plain": [
       "Lasso()"
      ]
     },
     "execution_count": 46,
     "metadata": {},
     "output_type": "execute_result"
    }
   ],
   "source": [
    "#make a lasso regrresion model\n",
    "from sklearn.linear_model import Lasso\n",
    "lasso_model=Lasso()\n",
    "lasso_model.fit(x,y)"
   ]
  },
  {
   "cell_type": "code",
   "execution_count": 47,
   "metadata": {},
   "outputs": [
    {
     "name": "stdout",
     "output_type": "stream",
     "text": [
      "R squared Error :  0.8438092536765838\n"
     ]
    }
   ],
   "source": [
    "#error for Lasso Regression\n",
    "from sklearn import metrics\n",
    "#prdiction of training data\n",
    "lasso_prediction=lasso_model.predict(x)\n",
    "# R squared Error\n",
    "error_score = metrics.r2_score(y, lasso_prediction)\n",
    "print(\"R squared Error : \", error_score)"
   ]
  },
  {
   "attachments": {},
   "cell_type": "markdown",
   "metadata": {},
   "source": [
    "Lasso Regression gives lesser error compared to Linear Regression.\n"
   ]
  },
  {
   "cell_type": "code",
   "execution_count": 48,
   "metadata": {},
   "outputs": [],
   "source": [
    "#data set for future years\n",
    "future_PHEV = {'powertrain': ['PHEV', 'PHEV', 'PHEV', 'PHEV', 'PHEV' ],\n",
    "          'year': [2023, 2024, 2025, 2026, 2027]}\n",
    "future_df_PHEV = pd.DataFrame(future_PHEV)\n",
    "future_BEV= {'powertrain': ['BEV', 'BEV', 'BEV', 'BEV', 'BEV' ],\n",
    "          'year': [2023, 2024, 2025, 2026, 2027]}\n",
    "future_df_BEV = pd.DataFrame(future_BEV)\n"
   ]
  },
  {
   "attachments": {},
   "cell_type": "markdown",
   "metadata": {},
   "source": [
    "seperating into PHEV and BEV for plotting"
   ]
  },
  {
   "cell_type": "code",
   "execution_count": 49,
   "metadata": {},
   "outputs": [
    {
     "name": "stdout",
     "output_type": "stream",
     "text": [
      "   powertrain  year\n",
      "0           0  2023\n",
      "1           0  2024\n",
      "2           0  2025\n",
      "3           0  2026\n",
      "4           0  2027\n",
      "   powertrain  year\n",
      "0           1  2023\n",
      "1           1  2024\n",
      "2           1  2025\n",
      "3           1  2026\n",
      "4           1  2027\n"
     ]
    }
   ],
   "source": [
    "future_df_PHEV.replace({'PHEV':0,},inplace=True)\n",
    "print(future_df_PHEV)\n",
    "future_df_BEV.replace({'BEV':1,},inplace=True)\n",
    "print(future_df_BEV)"
   ]
  },
  {
   "cell_type": "code",
   "execution_count": 50,
   "metadata": {},
   "outputs": [],
   "source": [
    "#prediction using linear regression\n",
    "\n",
    "lin_future_PHEV=lin_model.predict(future_df_PHEV)\n",
    "lin_future_BEV=lin_model.predict(future_df_BEV)\n"
   ]
  },
  {
   "cell_type": "code",
   "execution_count": 51,
   "metadata": {},
   "outputs": [
    {
     "name": "stdout",
     "output_type": "stream",
     "text": [
      "   log_values\n",
      "0    9.691507\n",
      "1   10.154846\n",
      "2   10.618185\n",
      "3   11.081524\n",
      "4   11.544863\n",
      "   log_values\n",
      "0   10.125397\n",
      "1   10.588736\n",
      "2   11.052075\n",
      "3   11.515414\n",
      "4   11.978753\n"
     ]
    }
   ],
   "source": [
    "\n",
    "# Create DataFrame of predicted values\n",
    "future_predicted_value_PHEV= pd.DataFrame(lin_future_PHEV, columns=['log_values'])\n",
    "future_predicted_value_BEV= pd.DataFrame(lin_future_BEV, columns=['log_values'])\n",
    "\n",
    "print(future_predicted_value_PHEV)\n",
    "print(future_predicted_value_BEV)"
   ]
  },
  {
   "cell_type": "code",
   "execution_count": 52,
   "metadata": {},
   "outputs": [
    {
     "name": "stdout",
     "output_type": "stream",
     "text": [
      "   log_values          value\n",
      "0    9.691507   16179.601184\n",
      "1   10.154846   25715.409087\n",
      "2   10.618185   40871.357520\n",
      "3   11.081524   64959.801334\n",
      "4   11.544863  103245.305403\n",
      "   log_values          value\n",
      "0   10.125397   24969.163869\n",
      "1   10.588736   39685.296081\n",
      "2   11.052075   63074.708201\n",
      "3   11.515414  100249.190694\n",
      "4   11.978753  159333.281461\n"
     ]
    }
   ],
   "source": [
    "#converting back to usable values from log_values using exp\n",
    "future_predicted_value_PHEV['value']=future_predicted_value_PHEV['log_values'].apply(lambda x: np.exp(x))\n",
    "future_predicted_value_BEV['value']=future_predicted_value_BEV['log_values'].apply(lambda x:np.exp(x))\n",
    "print(future_predicted_value_PHEV)\n",
    "print(future_predicted_value_BEV)"
   ]
  },
  {
   "attachments": {},
   "cell_type": "markdown",
   "metadata": {},
   "source": [
    "predicting future years value using lasso regression"
   ]
  },
  {
   "cell_type": "code",
   "execution_count": 53,
   "metadata": {},
   "outputs": [
    {
     "name": "stdout",
     "output_type": "stream",
     "text": [
      "[ 9.3212862   9.68933538 10.05738455 10.42543373 10.79348291]\n",
      "[ 9.3212862   9.68933538 10.05738455 10.42543373 10.79348291]\n"
     ]
    }
   ],
   "source": [
    "lasso_future_PHEV=lasso_model.predict(future_df_PHEV)\n",
    "lasso_future_BEV=lasso_model.predict(future_df_BEV)\n",
    "print(lasso_future_BEV)\n",
    "print(lasso_future_PHEV)"
   ]
  },
  {
   "cell_type": "code",
   "execution_count": 54,
   "metadata": {},
   "outputs": [
    {
     "name": "stdout",
     "output_type": "stream",
     "text": [
      "   log_values\n",
      "0    9.321286\n",
      "1    9.689335\n",
      "2   10.057385\n",
      "3   10.425434\n",
      "4   10.793483\n",
      "   log_values\n",
      "0    9.321286\n",
      "1    9.689335\n",
      "2   10.057385\n",
      "3   10.425434\n",
      "4   10.793483\n"
     ]
    }
   ],
   "source": [
    "#putting predictions in dataframe\n",
    "future_predicted_value_PHEV_lasso= pd.DataFrame(lasso_future_PHEV, columns=['log_values'])\n",
    "future_predicted_value_BEV_lasso= pd.DataFrame(lasso_future_BEV, columns=['log_values'])\n",
    "print(future_predicted_value_PHEV_lasso)\n",
    "print(future_predicted_value_BEV_lasso)"
   ]
  },
  {
   "cell_type": "code",
   "execution_count": 55,
   "metadata": {},
   "outputs": [
    {
     "name": "stdout",
     "output_type": "stream",
     "text": [
      "   log_values        values\n",
      "0    9.321286  11173.343728\n",
      "1    9.689335  16144.510687\n",
      "2   10.057385  23327.414932\n",
      "3   10.425434  33706.087347\n",
      "4   10.793483  48702.367047\n",
      "   log_values        values\n",
      "0    9.321286  11173.343728\n",
      "1    9.689335  16144.510687\n",
      "2   10.057385  23327.414932\n",
      "3   10.425434  33706.087347\n",
      "4   10.793483  48702.367047\n"
     ]
    }
   ],
   "source": [
    "#converting to usable values from log_values\n",
    "future_predicted_value_PHEV_lasso['values']=future_predicted_value_PHEV_lasso['log_values'].apply(lambda x: np.exp(x))\n",
    "print(future_predicted_value_PHEV_lasso)\n",
    "future_predicted_value_BEV_lasso['values']=future_predicted_value_BEV_lasso['log_values'].apply(lambda x: np.exp(x))\n",
    "print(future_predicted_value_BEV_lasso)\n"
   ]
  },
  {
   "cell_type": "code",
   "execution_count": 56,
   "metadata": {},
   "outputs": [
    {
     "name": "stderr",
     "output_type": "stream",
     "text": [
      "C:\\Users\\risha\\AppData\\Local\\Temp\\ipykernel_40996\\3658990835.py:7: SettingWithCopyWarning: \n",
      "A value is trying to be set on a copy of a slice from a DataFrame.\n",
      "Try using .loc[row_indexer,col_indexer] = value instead\n",
      "\n",
      "See the caveats in the documentation: https://pandas.pydata.org/pandas-docs/stable/user_guide/indexing.html#returning-a-view-versus-a-copy\n",
      "  df_x_PHEV['log_value']=lin_model.predict(df_x_PHEV)\n",
      "C:\\Users\\risha\\AppData\\Local\\Temp\\ipykernel_40996\\3658990835.py:8: SettingWithCopyWarning: \n",
      "A value is trying to be set on a copy of a slice from a DataFrame.\n",
      "Try using .loc[row_indexer,col_indexer] = value instead\n",
      "\n",
      "See the caveats in the documentation: https://pandas.pydata.org/pandas-docs/stable/user_guide/indexing.html#returning-a-view-versus-a-copy\n",
      "  df_x_PHEV['value']=df_x_PHEV['log_value'].apply(lambda x:np.exp(x))\n",
      "C:\\Users\\risha\\AppData\\Local\\Temp\\ipykernel_40996\\3658990835.py:10: SettingWithCopyWarning: \n",
      "A value is trying to be set on a copy of a slice from a DataFrame.\n",
      "Try using .loc[row_indexer,col_indexer] = value instead\n",
      "\n",
      "See the caveats in the documentation: https://pandas.pydata.org/pandas-docs/stable/user_guide/indexing.html#returning-a-view-versus-a-copy\n",
      "  df_x_BEV['log_value']=lin_model.predict(df_x_BEV )\n",
      "C:\\Users\\risha\\AppData\\Local\\Temp\\ipykernel_40996\\3658990835.py:11: SettingWithCopyWarning: \n",
      "A value is trying to be set on a copy of a slice from a DataFrame.\n",
      "Try using .loc[row_indexer,col_indexer] = value instead\n",
      "\n",
      "See the caveats in the documentation: https://pandas.pydata.org/pandas-docs/stable/user_guide/indexing.html#returning-a-view-versus-a-copy\n",
      "  df_x_BEV['value']=df_x_BEV['log_value'].apply(lambda x:np.exp(x))\n"
     ]
    },
    {
     "data": {
      "text/html": [
       "<div>\n",
       "<style scoped>\n",
       "    .dataframe tbody tr th:only-of-type {\n",
       "        vertical-align: middle;\n",
       "    }\n",
       "\n",
       "    .dataframe tbody tr th {\n",
       "        vertical-align: top;\n",
       "    }\n",
       "\n",
       "    .dataframe thead th {\n",
       "        text-align: right;\n",
       "    }\n",
       "</style>\n",
       "<table border=\"1\" class=\"dataframe\">\n",
       "  <thead>\n",
       "    <tr style=\"text-align: right;\">\n",
       "      <th></th>\n",
       "      <th>powertrain</th>\n",
       "      <th>year</th>\n",
       "      <th>log_value</th>\n",
       "      <th>value</th>\n",
       "    </tr>\n",
       "  </thead>\n",
       "  <tbody>\n",
       "    <tr>\n",
       "      <th>0</th>\n",
       "      <td>1</td>\n",
       "      <td>2011</td>\n",
       "      <td>4.565327</td>\n",
       "      <td>96.094050</td>\n",
       "    </tr>\n",
       "    <tr>\n",
       "      <th>1</th>\n",
       "      <td>1</td>\n",
       "      <td>2012</td>\n",
       "      <td>5.028667</td>\n",
       "      <td>152.729216</td>\n",
       "    </tr>\n",
       "    <tr>\n",
       "      <th>4</th>\n",
       "      <td>1</td>\n",
       "      <td>2013</td>\n",
       "      <td>5.492006</td>\n",
       "      <td>242.743577</td>\n",
       "    </tr>\n",
       "    <tr>\n",
       "      <th>5</th>\n",
       "      <td>1</td>\n",
       "      <td>2014</td>\n",
       "      <td>5.955345</td>\n",
       "      <td>385.809904</td>\n",
       "    </tr>\n",
       "    <tr>\n",
       "      <th>8</th>\n",
       "      <td>1</td>\n",
       "      <td>2015</td>\n",
       "      <td>6.418684</td>\n",
       "      <td>613.195555</td>\n",
       "    </tr>\n",
       "    <tr>\n",
       "      <th>9</th>\n",
       "      <td>1</td>\n",
       "      <td>2016</td>\n",
       "      <td>6.882023</td>\n",
       "      <td>974.595996</td>\n",
       "    </tr>\n",
       "    <tr>\n",
       "      <th>12</th>\n",
       "      <td>1</td>\n",
       "      <td>2017</td>\n",
       "      <td>7.345362</td>\n",
       "      <td>1548.995829</td>\n",
       "    </tr>\n",
       "    <tr>\n",
       "      <th>13</th>\n",
       "      <td>1</td>\n",
       "      <td>2018</td>\n",
       "      <td>7.808701</td>\n",
       "      <td>2461.930980</td>\n",
       "    </tr>\n",
       "    <tr>\n",
       "      <th>16</th>\n",
       "      <td>1</td>\n",
       "      <td>2019</td>\n",
       "      <td>8.272040</td>\n",
       "      <td>3912.924774</td>\n",
       "    </tr>\n",
       "    <tr>\n",
       "      <th>17</th>\n",
       "      <td>1</td>\n",
       "      <td>2020</td>\n",
       "      <td>8.735380</td>\n",
       "      <td>6219.094040</td>\n",
       "    </tr>\n",
       "    <tr>\n",
       "      <th>20</th>\n",
       "      <td>1</td>\n",
       "      <td>2021</td>\n",
       "      <td>9.198719</td>\n",
       "      <td>9884.455467</td>\n",
       "    </tr>\n",
       "    <tr>\n",
       "      <th>21</th>\n",
       "      <td>1</td>\n",
       "      <td>2022</td>\n",
       "      <td>9.662058</td>\n",
       "      <td>15710.079195</td>\n",
       "    </tr>\n",
       "  </tbody>\n",
       "</table>\n",
       "</div>"
      ],
      "text/plain": [
       "    powertrain  year  log_value         value\n",
       "0            1  2011   4.565327     96.094050\n",
       "1            1  2012   5.028667    152.729216\n",
       "4            1  2013   5.492006    242.743577\n",
       "5            1  2014   5.955345    385.809904\n",
       "8            1  2015   6.418684    613.195555\n",
       "9            1  2016   6.882023    974.595996\n",
       "12           1  2017   7.345362   1548.995829\n",
       "13           1  2018   7.808701   2461.930980\n",
       "16           1  2019   8.272040   3912.924774\n",
       "17           1  2020   8.735380   6219.094040\n",
       "20           1  2021   9.198719   9884.455467\n",
       "21           1  2022   9.662058  15710.079195"
      ]
     },
     "execution_count": 56,
     "metadata": {},
     "output_type": "execute_result"
    }
   ],
   "source": [
    "# Filter the DataFrame by powertrain for finding value using model for each PHEV and BEV\n",
    "df_x_PHEV = x[x['powertrain'] == 0]\n",
    "df_x_BEV = x[x['powertrain'] == 1]\n",
    "\n",
    "\n",
    "#calculating model values for known data \n",
    "df_x_PHEV['log_value']=lin_model.predict(df_x_PHEV)\n",
    "df_x_PHEV['value']=df_x_PHEV['log_value'].apply(lambda x:np.exp(x))\n",
    "df_x_PHEV\n",
    "df_x_BEV['log_value']=lin_model.predict(df_x_BEV )\n",
    "df_x_BEV['value']=df_x_BEV['log_value'].apply(lambda x:np.exp(x))\n",
    "df_x_BEV"
   ]
  },
  {
   "cell_type": "code",
   "execution_count": 57,
   "metadata": {},
   "outputs": [
    {
     "data": {
      "text/plain": [
       "[<matplotlib.lines.Line2D at 0x20587717550>]"
      ]
     },
     "execution_count": 57,
     "metadata": {},
     "output_type": "execute_result"
    },
    {
     "data": {
      "image/png": "[encoded data removed]",
      "text/plain": [
       "<Figure size 640x480 with 1 Axes>"
      ]
     },
     "metadata": {},
     "output_type": "display_data"
    }
   ],
   "source": [
    "plt.plot(df_x_PHEV['year'], df_x_PHEV['value'], color='purple', label='New PHEV Data')\n",
    "plt.plot(df_x_BEV['year'], df_x_BEV['value'], color='orange', label='New PHEV Data')"
   ]
  },
  {
   "cell_type": "code",
   "execution_count": 58,
   "metadata": {},
   "outputs": [],
   "source": [
    "# Filter the DataFrame by powertrain\n",
    "old_x_PHEV = df[df['powertrain'] == 0]\n",
    "old_x_BEV = df[df['powertrain'] == 1]"
   ]
  },
  {
   "cell_type": "code",
   "execution_count": 59,
   "metadata": {},
   "outputs": [
    {
     "data": {
      "image/png": "[encoded data removed]",
      "text/plain": [
       "<Figure size 640x480 with 1 Axes>"
      ]
     },
     "metadata": {},
     "output_type": "display_data"
    }
   ],
   "source": [
    "\n",
    "\n",
    "# Plotting new values for previous years\n",
    "plt.plot(df_x_PHEV['year'], df_x_PHEV['value'], label='predicted PHEV')\n",
    "plt.plot(df_x_BEV['year'], df_x_BEV['value'], label='predicted BEV')\n",
    "\n",
    "#plotting old values for previous years\n",
    "plt.scatter(old_x_PHEV['year'],old_x_PHEV['value'],label='PHEV')\n",
    "plt.scatter(old_x_BEV['year'],old_x_BEV['value'],label='BEV')\n",
    "# Set plot title and labels\n",
    "plt.title('Value vs Year')\n",
    "plt.xlabel('Year')\n",
    "plt.ylabel('Value')\n",
    "\n",
    "# Display the legend\n",
    "plt.legend()\n",
    "\n",
    "# Show the plot\n",
    "plt.show()"
   ]
  },
  {
   "cell_type": "code",
   "execution_count": 60,
   "metadata": {},
   "outputs": [
    {
     "data": {
      "image/png": "[encoded data removed]",
      "text/plain": [
       "<Figure size 640x480 with 1 Axes>"
      ]
     },
     "metadata": {},
     "output_type": "display_data"
    }
   ],
   "source": [
    "\n",
    "# Plotting new values for previous years\n",
    "plt.plot(df_x_PHEV['year'], df_x_PHEV['value'],color='purple', label='predicted PHEV')\n",
    "plt.plot(df_x_BEV['year'], df_x_BEV['value'],color='green', label='predicted BEV')\n",
    "\n",
    "#plotting old values for previous years\n",
    "plt.scatter(old_x_PHEV['year'],old_x_PHEV['value'],color='orange', label='PHEV')\n",
    "plt.scatter(old_x_BEV['year'],old_x_BEV['value'],color='blue',label='BEV')\n",
    "\n",
    "#plotting for future years and future values\n",
    "plt.scatter(future_df_PHEV['year'], future_predicted_value_PHEV['value'],color='purple', label='predicted PHEV')\n",
    "plt.scatter(future_df_BEV['year'], future_predicted_value_BEV['value'], color='green', label='predicted BEV')\n",
    "# Set plot title and labels\n",
    "plt.title('Value vs Year')\n",
    "plt.xlabel('Year')\n",
    "plt.ylabel('Value')\n",
    "\n",
    "# Display the legend\n",
    "plt.legend()\n",
    "\n",
    "# Show the plot\n",
    "plt.show()"
   ]
  },
  {
   "cell_type": "code",
   "execution_count": 65,
   "metadata": {},
   "outputs": [
    {
     "name": "stdout",
     "output_type": "stream",
     "text": [
      "    powertrain  year  log_value        value\n",
      "2            0  2012   5.272745   194.950412\n",
      "3            0  2013   5.640794   281.686403\n",
      "6            0  2014   6.008844   407.012373\n",
      "7            0  2015   6.376893   588.097508\n",
      "10           0  2016   6.744942   849.749791\n",
      "11           0  2017   7.112991  1227.814602\n",
      "14           0  2018   7.481040  1774.085399\n",
      "15           0  2019   7.849089  2563.399228\n",
      "18           0  2020   8.217139  3703.889116\n",
      "19           0  2021   8.585188  5351.797892\n",
      "22           0  2022   8.953237  7732.882866\n",
      "    powertrain  year  log_value        value\n",
      "0            1  2011   4.904696   134.921894\n",
      "1            1  2012   5.272745   194.950412\n",
      "4            1  2013   5.640794   281.686403\n",
      "5            1  2014   6.008844   407.012373\n",
      "8            1  2015   6.376893   588.097508\n",
      "9            1  2016   6.744942   849.749791\n",
      "12           1  2017   7.112991  1227.814602\n",
      "13           1  2018   7.481040  1774.085399\n",
      "16           1  2019   7.849089  2563.399228\n",
      "17           1  2020   8.217139  3703.889116\n",
      "20           1  2021   8.585188  5351.797892\n",
      "21           1  2022   8.953237  7732.882866\n"
     ]
    },
    {
     "name": "stderr",
     "output_type": "stream",
     "text": [
      "C:\\Users\\risha\\AppData\\Local\\Temp\\ipykernel_40996\\598757255.py:6: SettingWithCopyWarning: \n",
      "A value is trying to be set on a copy of a slice from a DataFrame.\n",
      "Try using .loc[row_indexer,col_indexer] = value instead\n",
      "\n",
      "See the caveats in the documentation: https://pandas.pydata.org/pandas-docs/stable/user_guide/indexing.html#returning-a-view-versus-a-copy\n",
      "  df_x_PHEV_lasso['log_value']=lasso_model.predict(df_x_PHEV_lasso)\n",
      "C:\\Users\\risha\\AppData\\Local\\Temp\\ipykernel_40996\\598757255.py:7: SettingWithCopyWarning: \n",
      "A value is trying to be set on a copy of a slice from a DataFrame.\n",
      "Try using .loc[row_indexer,col_indexer] = value instead\n",
      "\n",
      "See the caveats in the documentation: https://pandas.pydata.org/pandas-docs/stable/user_guide/indexing.html#returning-a-view-versus-a-copy\n",
      "  df_x_PHEV_lasso['value']=df_x_PHEV_lasso['log_value'].apply(lambda x:np.exp(x))\n",
      "C:\\Users\\risha\\AppData\\Local\\Temp\\ipykernel_40996\\598757255.py:9: SettingWithCopyWarning: \n",
      "A value is trying to be set on a copy of a slice from a DataFrame.\n",
      "Try using .loc[row_indexer,col_indexer] = value instead\n",
      "\n",
      "See the caveats in the documentation: https://pandas.pydata.org/pandas-docs/stable/user_guide/indexing.html#returning-a-view-versus-a-copy\n",
      "  df_x_BEV_lasso['log_value']=lasso_model.predict(df_x_BEV_lasso)\n",
      "C:\\Users\\risha\\AppData\\Local\\Temp\\ipykernel_40996\\598757255.py:10: SettingWithCopyWarning: \n",
      "A value is trying to be set on a copy of a slice from a DataFrame.\n",
      "Try using .loc[row_indexer,col_indexer] = value instead\n",
      "\n",
      "See the caveats in the documentation: https://pandas.pydata.org/pandas-docs/stable/user_guide/indexing.html#returning-a-view-versus-a-copy\n",
      "  df_x_BEV_lasso['value']=df_x_BEV_lasso['log_value'].apply(lambda x:np.exp(x))\n"
     ]
    }
   ],
   "source": [
    "# Filter the DataFrame by powertrain for finding value using model for each PHEV and BEV\n",
    "df_x_PHEV_lasso = x[x['powertrain'] == 0]\n",
    "df_x_BEV_lasso = x[x['powertrain'] == 1]\n",
    "\n",
    "#calculating model values for known data using lasso\n",
    "df_x_PHEV_lasso['log_value']=lasso_model.predict(df_x_PHEV_lasso)\n",
    "df_x_PHEV_lasso['value']=df_x_PHEV_lasso['log_value'].apply(lambda x:np.exp(x))\n",
    "print(df_x_PHEV_lasso)\n",
    "df_x_BEV_lasso['log_value']=lasso_model.predict(df_x_BEV_lasso)\n",
    "df_x_BEV_lasso['value']=df_x_BEV_lasso['log_value'].apply(lambda x:np.exp(x))\n",
    "print(df_x_BEV_lasso)"
   ]
  },
  {
   "cell_type": "code",
   "execution_count": 66,
   "metadata": {},
   "outputs": [
    {
     "data": {
      "image/png": "[encoded data removed]",
      "text/plain": [
       "<Figure size 640x480 with 1 Axes>"
      ]
     },
     "metadata": {},
     "output_type": "display_data"
    }
   ],
   "source": [
    "# Plotting new values for previous years\n",
    "plt.plot(df_x_PHEV_lasso['year'], df_x_PHEV_lasso['value'],color='purple', label='predicted PHEV')\n",
    "plt.plot(df_x_BEV_lasso['year'], df_x_BEV_lasso['value'],color='green', label='predicted BEV')\n",
    "\n",
    "#plotting old values for previous years\n",
    "plt.scatter(old_x_PHEV['year'],old_x_PHEV['value'],color='orange', label='PHEV')\n",
    "plt.scatter(old_x_BEV['year'],old_x_BEV['value'],color='blue',label='BEV')\n",
    "\n",
    "#plotting for future years and future values\n",
    "plt.scatter(future_df_PHEV['year'], future_predicted_value_PHEV_lasso['values'],color='purple', label='predicted PHEV')\n",
    "plt.scatter(future_df_BEV['year'], future_predicted_value_BEV_lasso['values'], color='green', label='predicted BEV')\n",
    "# Set plot title and labels\n",
    "plt.title('Value vs Year')\n",
    "plt.xlabel('Year')\n",
    "plt.ylabel('Value')\n",
    "\n",
    "# Display the legend\n",
    "plt.legend()\n",
    "\n",
    "# Show the plot\n",
    "plt.show()"
   ]
  },
  {
   "attachments": {},
   "cell_type": "markdown",
   "metadata": {},
   "source": [
    "Here we have made 2 models-                                         \n",
    "linearRegression                                                     \n",
    "lassoRegression                                                           \n",
    "That can be used to predict the future sales value of PHEV and BEV for a single country "
   ]
  },
  {
   "attachments": {},
   "cell_type": "markdown",
   "metadata": {},
   "source": [
    "we can see that the prediction is not optimum so we will try different models next."
   ]
  },
  {
   "attachments": {},
   "cell_type": "markdown",
   "metadata": {},
   "source": []
  }
 ],
 "metadata": {
  "kernelspec": {
   "display_name": "base",
   "language": "python",
   "name": "python3"
  },
  "language_info": {
   "codemirror_mode": {
    "name": "ipython",
    "version": 3
   },
   "file_extension": ".py",
   "mimetype": "text/x-python",
   "name": "python",
   "nbconvert_exporter": "python",
   "pygments_lexer": "ipython3",
   "version": "3.9.13"
  },
  "orig_nbformat": 4
 },
 "nbformat": 4,
 "nbformat_minor": 2
}
