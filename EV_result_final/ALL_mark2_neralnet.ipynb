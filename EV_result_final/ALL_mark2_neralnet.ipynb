{
 "cells": [
  {
   "cell_type": "code",
   "execution_count": 42,
   "metadata": {},
   "outputs": [],
   "source": [
    "import pandas as pd\n",
    "from sklearn.metrics import r2_score\n",
    "import tensorflow as tf\n",
    "from tensorflow.keras.models import Sequential\n",
    "from tensorflow.keras.layers import Dense\n",
    "import numpy as np\n",
    "from sklearn.preprocessing import StandardScaler\n",
    "import matplotlib.pyplot as plt\n",
    "# Load the dataset\n",
    "df = pd.read_csv('IEA-EV-dataEV_salesCarsHistorical.csv')\n",
    "data=df.drop(['category','parameter','mode','unit'], axis=1)\n",
    "\n",
    "# converting value column to a more usable log.\n",
    "data['log_value'] = data['value'].apply(lambda x: np.log(x))\n",
    "df=data\n",
    "\n",
    "encoded_data = pd.get_dummies(data, columns=['region', 'powertrain'])\n",
    "encoded_data\n",
    "x = encoded_data.drop(['log_value','value'], axis=1)\n",
    "y = encoded_data[['log_value']]"
   ]
  },
  {
   "cell_type": "code",
   "execution_count": 43,
   "metadata": {},
   "outputs": [],
   "source": [
    "#using X_train,Y_train  instead of x,y \n",
    "\n",
    "# Scale the input features\n",
    "scaler = StandardScaler()\n",
    "x_train_scaled = scaler.fit_transform(x)"
   ]
  },
  {
   "cell_type": "code",
   "execution_count": 44,
   "metadata": {},
   "outputs": [],
   "source": [
    "# Build the neural network model\n",
    "model = Sequential()\n",
    "model.add(Dense(64, activation='relu', input_dim=x_train_scaled.shape[1]))\n",
    "model.add(Dense(64, activation='relu'))\n",
    "model.add(Dense(1))\n",
    "# Compile the model\n",
    "model.compile(optimizer='adam', loss='mean_squared_error')\n"
   ]
  },
  {
   "cell_type": "code",
   "execution_count": 45,
   "metadata": {},
   "outputs": [
    {
     "data": {
      "text/plain": [
       "<keras.callbacks.History at 0x226e176faf0>"
      ]
     },
     "execution_count": 45,
     "metadata": {},
     "output_type": "execute_result"
    }
   ],
   "source": [
    "# Train the model\n",
    "model.fit(x_train_scaled, y, epochs=100, batch_size=32, verbose=0)"
   ]
  },
  {
   "cell_type": "code",
   "execution_count": 46,
   "metadata": {},
   "outputs": [
    {
     "name": "stdout",
     "output_type": "stream",
     "text": [
      "27/27 [==============================] - 0s 879us/step\n"
     ]
    }
   ],
   "source": [
    "# Evaluate the model\n",
    "train_predictions = model.predict(x_train_scaled)"
   ]
  },
  {
   "cell_type": "code",
   "execution_count": 47,
   "metadata": {},
   "outputs": [
    {
     "name": "stdout",
     "output_type": "stream",
     "text": [
      "R squared Error:  0.977221038846367\n"
     ]
    }
   ],
   "source": [
    "from sklearn import metrics\n",
    "# Create DataFrame of predicted values\n",
    "train_prediction = pd.DataFrame(train_predictions, columns=['log_values'])\n",
    "# Converting back to usable values from log_values using exp\n",
    "train_prediction['value'] = train_prediction['log_values'].apply(lambda x: np.exp(x)).astype(int)\n",
    "# R squared Error\n",
    "error_score = metrics.r2_score(df['value'], train_prediction['value'])\n",
    "print(\"R squared Error: \", error_score)\n"
   ]
  },
  {
   "cell_type": "code",
   "execution_count": 48,
   "metadata": {},
   "outputs": [
    {
     "name": "stdout",
     "output_type": "stream",
     "text": [
      "0           69\n",
      "1          128\n",
      "2           82\n",
      "3          198\n",
      "4          216\n",
      "        ...   \n",
      "829    1215153\n",
      "830    1802884\n",
      "831    4819932\n",
      "832    7552347\n",
      "833    2892738\n",
      "Name: value, Length: 834, dtype: int32\n"
     ]
    }
   ],
   "source": [
    "print(train_prediction['value'])"
   ]
  },
  {
   "cell_type": "code",
   "execution_count": 49,
   "metadata": {},
   "outputs": [
    {
     "name": "stdout",
     "output_type": "stream",
     "text": [
      "0           49\n",
      "1          170\n",
      "2           80\n",
      "3          100\n",
      "4          190\n",
      "        ...   \n",
      "829     970000\n",
      "830    1900000\n",
      "831    4600000\n",
      "832    7300000\n",
      "833    2900000\n",
      "Name: value, Length: 834, dtype: int64\n"
     ]
    }
   ],
   "source": [
    "print(df['value'])"
   ]
  },
  {
   "cell_type": "code",
   "execution_count": 50,
   "metadata": {},
   "outputs": [],
   "source": [
    "# Extract the latest year from the dataset\n",
    "latest_year = data['year'].max()\n",
    "\n",
    "# Create a new DataFrame with future year, region, and powertrain\n",
    "future_data = pd.DataFrame({\n",
    "    'year': [latest_year + 1, latest_year + 2, latest_year + 3],\n",
    "    'region': [data['region'].unique()[0]] * 3,\n",
    "    'powertrain': [data['powertrain'].unique()[0]] * 3\n",
    "})"
   ]
  },
  {
   "cell_type": "code",
   "execution_count": 55,
   "metadata": {},
   "outputs": [
    {
     "data": {
      "text/html": [
       "<div>\n",
       "<style scoped>\n",
       "    .dataframe tbody tr th:only-of-type {\n",
       "        vertical-align: middle;\n",
       "    }\n",
       "\n",
       "    .dataframe tbody tr th {\n",
       "        vertical-align: top;\n",
       "    }\n",
       "\n",
       "    .dataframe thead th {\n",
       "        text-align: right;\n",
       "    }\n",
       "</style>\n",
       "<table border=\"1\" class=\"dataframe\">\n",
       "  <thead>\n",
       "    <tr style=\"text-align: right;\">\n",
       "      <th></th>\n",
       "      <th>year</th>\n",
       "      <th>value</th>\n",
       "      <th>log_value</th>\n",
       "      <th>region_Australia</th>\n",
       "      <th>region_Austria</th>\n",
       "      <th>region_Belgium</th>\n",
       "      <th>region_Brazil</th>\n",
       "      <th>region_Canada</th>\n",
       "      <th>region_Chile</th>\n",
       "      <th>region_China</th>\n",
       "      <th>...</th>\n",
       "      <th>region_South Africa</th>\n",
       "      <th>region_Spain</th>\n",
       "      <th>region_Sweden</th>\n",
       "      <th>region_Switzerland</th>\n",
       "      <th>region_Turkiye</th>\n",
       "      <th>region_USA</th>\n",
       "      <th>region_United Kingdom</th>\n",
       "      <th>region_World</th>\n",
       "      <th>powertrain_BEV</th>\n",
       "      <th>powertrain_PHEV</th>\n",
       "    </tr>\n",
       "  </thead>\n",
       "  <tbody>\n",
       "    <tr>\n",
       "      <th>0</th>\n",
       "      <td>2023</td>\n",
       "      <td>0</td>\n",
       "      <td>0</td>\n",
       "      <td>1</td>\n",
       "      <td>0</td>\n",
       "      <td>0</td>\n",
       "      <td>0</td>\n",
       "      <td>0</td>\n",
       "      <td>0</td>\n",
       "      <td>0</td>\n",
       "      <td>...</td>\n",
       "      <td>0</td>\n",
       "      <td>0</td>\n",
       "      <td>0</td>\n",
       "      <td>0</td>\n",
       "      <td>0</td>\n",
       "      <td>0</td>\n",
       "      <td>0</td>\n",
       "      <td>0</td>\n",
       "      <td>1</td>\n",
       "      <td>0</td>\n",
       "    </tr>\n",
       "    <tr>\n",
       "      <th>1</th>\n",
       "      <td>2024</td>\n",
       "      <td>0</td>\n",
       "      <td>0</td>\n",
       "      <td>1</td>\n",
       "      <td>0</td>\n",
       "      <td>0</td>\n",
       "      <td>0</td>\n",
       "      <td>0</td>\n",
       "      <td>0</td>\n",
       "      <td>0</td>\n",
       "      <td>...</td>\n",
       "      <td>0</td>\n",
       "      <td>0</td>\n",
       "      <td>0</td>\n",
       "      <td>0</td>\n",
       "      <td>0</td>\n",
       "      <td>0</td>\n",
       "      <td>0</td>\n",
       "      <td>0</td>\n",
       "      <td>1</td>\n",
       "      <td>0</td>\n",
       "    </tr>\n",
       "    <tr>\n",
       "      <th>2</th>\n",
       "      <td>2025</td>\n",
       "      <td>0</td>\n",
       "      <td>0</td>\n",
       "      <td>1</td>\n",
       "      <td>0</td>\n",
       "      <td>0</td>\n",
       "      <td>0</td>\n",
       "      <td>0</td>\n",
       "      <td>0</td>\n",
       "      <td>0</td>\n",
       "      <td>...</td>\n",
       "      <td>0</td>\n",
       "      <td>0</td>\n",
       "      <td>0</td>\n",
       "      <td>0</td>\n",
       "      <td>0</td>\n",
       "      <td>0</td>\n",
       "      <td>0</td>\n",
       "      <td>0</td>\n",
       "      <td>1</td>\n",
       "      <td>0</td>\n",
       "    </tr>\n",
       "  </tbody>\n",
       "</table>\n",
       "<p>3 rows × 41 columns</p>\n",
       "</div>"
      ],
      "text/plain": [
       "   year  value  log_value  region_Australia  region_Austria  region_Belgium  \\\n",
       "0  2023      0          0                 1               0               0   \n",
       "1  2024      0          0                 1               0               0   \n",
       "2  2025      0          0                 1               0               0   \n",
       "\n",
       "   region_Brazil  region_Canada  region_Chile  region_China  ...  \\\n",
       "0              0              0             0             0  ...   \n",
       "1              0              0             0             0  ...   \n",
       "2              0              0             0             0  ...   \n",
       "\n",
       "   region_South Africa  region_Spain  region_Sweden  region_Switzerland  \\\n",
       "0                    0             0              0                   0   \n",
       "1                    0             0              0                   0   \n",
       "2                    0             0              0                   0   \n",
       "\n",
       "   region_Turkiye  region_USA  region_United Kingdom  region_World  \\\n",
       "0               0           0                      0             0   \n",
       "1               0           0                      0             0   \n",
       "2               0           0                      0             0   \n",
       "\n",
       "   powertrain_BEV  powertrain_PHEV  \n",
       "0               1                0  \n",
       "1               1                0  \n",
       "2               1                0  \n",
       "\n",
       "[3 rows x 41 columns]"
      ]
     },
     "execution_count": 55,
     "metadata": {},
     "output_type": "execute_result"
    }
   ],
   "source": [
    "# Perform one-hot encoding on the future data using the original encoder\n",
    "encoded_future_data = pd.get_dummies(future_data, columns=['region', 'powertrain'])\n",
    "\n",
    "encoded_future_data = encoded_future_data.reindex(columns=encoded_data.columns[:], fill_value=0)\n",
    "encoded_future_data"
   ]
  },
  {
   "cell_type": "code",
   "execution_count": 56,
   "metadata": {},
   "outputs": [],
   "source": [
    "# Remove the 'value' column from the encoded future data\n",
    "encoded_future_data = encoded_future_data.drop(['value','log_value'], axis=1)"
   ]
  },
  {
   "cell_type": "code",
   "execution_count": 57,
   "metadata": {},
   "outputs": [
    {
     "name": "stdout",
     "output_type": "stream",
     "text": [
      "1/1 [==============================] - 0s 396ms/step\n"
     ]
    }
   ],
   "source": [
    "# Predict the values for future years\n",
    "future_prediction = model.predict(encoded_future_data)"
   ]
  },
  {
   "cell_type": "code",
   "execution_count": 58,
   "metadata": {},
   "outputs": [],
   "source": [
    "# Create DataFrame of predicted values\n",
    "future_prediction = pd.DataFrame(future_prediction, columns=['log_values'])\n",
    "# Converting back to usable values from log_values using exp\n",
    "future_prediction['value'] = future_prediction['log_values'].apply(lambda x: np.exp(x))"
   ]
  },
  {
   "cell_type": "code",
   "execution_count": 59,
   "metadata": {},
   "outputs": [
    {
     "data": {
      "text/html": [
       "<div>\n",
       "<style scoped>\n",
       "    .dataframe tbody tr th:only-of-type {\n",
       "        vertical-align: middle;\n",
       "    }\n",
       "\n",
       "    .dataframe tbody tr th {\n",
       "        vertical-align: top;\n",
       "    }\n",
       "\n",
       "    .dataframe thead th {\n",
       "        text-align: right;\n",
       "    }\n",
       "</style>\n",
       "<table border=\"1\" class=\"dataframe\">\n",
       "  <thead>\n",
       "    <tr style=\"text-align: right;\">\n",
       "      <th></th>\n",
       "      <th>log_values</th>\n",
       "      <th>value</th>\n",
       "    </tr>\n",
       "  </thead>\n",
       "  <tbody>\n",
       "    <tr>\n",
       "      <th>0</th>\n",
       "      <td>6226.835938</td>\n",
       "      <td>inf</td>\n",
       "    </tr>\n",
       "    <tr>\n",
       "      <th>1</th>\n",
       "      <td>6229.914062</td>\n",
       "      <td>inf</td>\n",
       "    </tr>\n",
       "    <tr>\n",
       "      <th>2</th>\n",
       "      <td>6232.991699</td>\n",
       "      <td>inf</td>\n",
       "    </tr>\n",
       "  </tbody>\n",
       "</table>\n",
       "</div>"
      ],
      "text/plain": [
       "    log_values  value\n",
       "0  6226.835938    inf\n",
       "1  6229.914062    inf\n",
       "2  6232.991699    inf"
      ]
     },
     "execution_count": 59,
     "metadata": {},
     "output_type": "execute_result"
    }
   ],
   "source": [
    "future_prediction"
   ]
  },
  {
   "cell_type": "code",
   "execution_count": null,
   "metadata": {},
   "outputs": [],
   "source": []
  }
 ],
 "metadata": {
  "kernelspec": {
   "display_name": "base",
   "language": "python",
   "name": "python3"
  },
  "language_info": {
   "codemirror_mode": {
    "name": "ipython",
    "version": 3
   },
   "file_extension": ".py",
   "mimetype": "text/x-python",
   "name": "python",
   "nbconvert_exporter": "python",
   "pygments_lexer": "ipython3",
   "version": "3.9.13"
  },
  "orig_nbformat": 4
 },
 "nbformat": 4,
 "nbformat_minor": 2
}
