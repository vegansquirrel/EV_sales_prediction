{
 "cells": [
  {
   "cell_type": "code",
   "execution_count": 7,
   "metadata": {},
   "outputs": [
    {
     "name": "stderr",
     "output_type": "stream",
     "text": [
      "c:\\Users\\risha\\anaconda3\\lib\\site-packages\\statsmodels\\tsa\\statespace\\sarimax.py:966: UserWarning: Non-stationary starting autoregressive parameters found. Using zeros as starting parameters.\n",
      "  warn('Non-stationary starting autoregressive parameters'\n"
     ]
    },
    {
     "name": "stdout",
     "output_type": "stream",
     "text": [
      "Root Mean Squared Error (RMSE): 322293.6746467435\n"
     ]
    },
    {
     "name": "stderr",
     "output_type": "stream",
     "text": [
      "c:\\Users\\risha\\anaconda3\\lib\\site-packages\\statsmodels\\base\\model.py:604: ConvergenceWarning: Maximum Likelihood optimization failed to converge. Check mle_retvals\n",
      "  warnings.warn(\"Maximum Likelihood optimization failed to \"\n"
     ]
    },
    {
     "data": {
      "image/png": "[encoded data removed]",
      "text/plain": [
       "<Figure size 640x480 with 1 Axes>"
      ]
     },
     "metadata": {},
     "output_type": "display_data"
    }
   ],
   "source": [
    "import pandas as pd\n",
    "import numpy as np\n",
    "from statsmodels.tsa.arima.model import ARIMA\n",
    "from sklearn.metrics import mean_squared_error\n",
    "import matplotlib.pyplot as plt\n",
    "\n",
    "# Load the dataset\n",
    "df = pd.read_csv('IEA-EV-dataEV_salesCarsHistorical.csv')\n",
    "data = df.drop(['category', 'parameter', 'mode', 'unit'], axis=1)\n",
    "\n",
    "# Convert the 'value' column to a more usable log.\n",
    "data['log_value'] = data['value'].apply(lambda x: np.log(x))\n",
    "df = data\n",
    "\n",
    "encoded_data = pd.get_dummies(data, columns=['region', 'powertrain'])\n",
    "x = encoded_data.drop(['log_value', 'value'], axis=1)\n",
    "y = encoded_data[['log_value']]\n",
    "\n",
    "# Fit the ARIMA model\n",
    "model = ARIMA(y, order=(2, 0, 1))\n",
    "model_fit = model.fit()\n",
    "\n",
    "# Make predictions on training data\n",
    "train_prediction = model_fit.predict(start=0, end=len(y)-1)\n",
    "\n",
    "# Convert back to usable values from log_values using exp\n",
    "train_prediction = np.exp(train_prediction).astype(int)\n",
    "\n",
    "# Calculate RMSE\n",
    "error_score = np.sqrt(mean_squared_error(data['value'], train_prediction))\n",
    "print(\"Root Mean Squared Error (RMSE):\", error_score)\n",
    "\n",
    "# Plot actual vs predicted values\n",
    "plt.plot(data.index, data['value'], label='Actual')\n",
    "plt.plot(data.index, train_prediction, label='Predicted')\n",
    "plt.xlabel('Time')\n",
    "plt.ylabel('Value')\n",
    "plt.legend()\n",
    "plt.show()\n"
   ]
  },
  {
   "cell_type": "code",
   "execution_count": 8,
   "metadata": {},
   "outputs": [
    {
     "data": {
      "text/plain": [
       "0         4137\n",
       "1          113\n",
       "2          270\n",
       "3          156\n",
       "4          181\n",
       "        ...   \n",
       "829     700325\n",
       "830     421179\n",
       "831     687731\n",
       "832    1357889\n",
       "833    2010185\n",
       "Name: predicted_mean, Length: 834, dtype: int32"
      ]
     },
     "execution_count": 8,
     "metadata": {},
     "output_type": "execute_result"
    }
   ],
   "source": [
    "train_prediction"
   ]
  },
  {
   "cell_type": "code",
   "execution_count": 9,
   "metadata": {},
   "outputs": [
    {
     "name": "stdout",
     "output_type": "stream",
     "text": [
      "R squared Error: 0.3729072143183273\n"
     ]
    }
   ],
   "source": [
    "# R squared Error\n",
    "# Checking error of the hybrid model with previous values\n",
    "from sklearn import metrics\n",
    "error_score = metrics.r2_score(data['value'], train_prediction)\n",
    "print(\"R squared Error:\", error_score)"
   ]
  },
  {
   "cell_type": "code",
   "execution_count": 10,
   "metadata": {},
   "outputs": [
    {
     "name": "stdout",
     "output_type": "stream",
     "text": [
      "Root Mean Squared Error (RMSE): 322293.6746467435\n"
     ]
    }
   ],
   "source": [
    "# Calculate RMSE\n",
    "error_score = np.sqrt(mean_squared_error(data['value'], train_prediction))\n",
    "print(\"Root Mean Squared Error (RMSE):\", error_score)\n"
   ]
  },
  {
   "cell_type": "code",
   "execution_count": 13,
   "metadata": {},
   "outputs": [
    {
     "data": {
      "text/html": [
       "<div>\n",
       "<style scoped>\n",
       "    .dataframe tbody tr th:only-of-type {\n",
       "        vertical-align: middle;\n",
       "    }\n",
       "\n",
       "    .dataframe tbody tr th {\n",
       "        vertical-align: top;\n",
       "    }\n",
       "\n",
       "    .dataframe thead th {\n",
       "        text-align: right;\n",
       "    }\n",
       "</style>\n",
       "<table border=\"1\" class=\"dataframe\">\n",
       "  <thead>\n",
       "    <tr style=\"text-align: right;\">\n",
       "      <th></th>\n",
       "      <th>log_values</th>\n",
       "      <th>value</th>\n",
       "    </tr>\n",
       "  </thead>\n",
       "  <tbody>\n",
       "  </tbody>\n",
       "</table>\n",
       "</div>"
      ],
      "text/plain": [
       "Empty DataFrame\n",
       "Columns: [log_values, value]\n",
       "Index: []"
      ]
     },
     "execution_count": 13,
     "metadata": {},
     "output_type": "execute_result"
    }
   ],
   "source": [
    "future_data=pd.DataFrame({'year': [2023,2024,2025],\n",
    "             'region': ['India','India','India'],\n",
    "             'powertrain': ['BEV','BEV','BEV']})\n",
    "future_data\n",
    "# Perform one-hot encoding on the future data using the original encoder\n",
    "encoded_future_data = pd.get_dummies(future_data, columns=['region', 'powertrain'])\n",
    "\n",
    "encoded_future_data = encoded_future_data.reindex(columns=encoded_data.columns[:], fill_value=0)\n",
    "encoded_future_data\n",
    "# Remove the 'value' column from the encoded future data\n",
    "encoded_future_data = encoded_future_data.drop(['value','log_value'], axis=1)\n",
    "# Predict the values for future years\n",
    "future_prediction = model_fit.predict(start=0, end=len(y)-1)\n",
    "future_prediction\n",
    "# Create DataFrame of predicted values\n",
    "future_prediction = pd.DataFrame(future_prediction, columns=['log_values'])\n",
    "# Converting back to usable values from log_values using exp\n",
    "future_prediction['value'] = future_prediction['log_values'].apply(lambda x: np.exp(x))\n",
    "future_prediction"
   ]
  },
  {
   "cell_type": "code",
   "execution_count": null,
   "metadata": {},
   "outputs": [],
   "source": []
  }
 ],
 "metadata": {
  "kernelspec": {
   "display_name": "base",
   "language": "python",
   "name": "python3"
  },
  "language_info": {
   "codemirror_mode": {
    "name": "ipython",
    "version": 3
   },
   "file_extension": ".py",
   "mimetype": "text/x-python",
   "name": "python",
   "nbconvert_exporter": "python",
   "pygments_lexer": "ipython3",
   "version": "3.9.13"
  },
  "orig_nbformat": 4
 },
 "nbformat": 4,
 "nbformat_minor": 2
}
