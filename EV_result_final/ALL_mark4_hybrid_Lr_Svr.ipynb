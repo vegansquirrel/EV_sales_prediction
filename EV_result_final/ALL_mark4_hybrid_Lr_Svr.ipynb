{
 "cells": [
  {
   "cell_type": "code",
   "execution_count": 3,
   "metadata": {},
   "outputs": [
    {
     "name": "stderr",
     "output_type": "stream",
     "text": [
      "c:\\Users\\risha\\anaconda3\\lib\\site-packages\\sklearn\\utils\\validation.py:993: DataConversionWarning: A column-vector y was passed when a 1d array was expected. Please change the shape of y to (n_samples, ), for example using ravel().\n",
      "  y = column_or_1d(y, warn=True)\n"
     ]
    }
   ],
   "source": [
    "import pandas as pd\n",
    "from sklearn.linear_model import LinearRegression\n",
    "from sklearn.svm import SVR \n",
    "import numpy as np\n",
    "from sklearn.metrics import mean_squared_error\n",
    "import matplotlib.pyplot as plt\n",
    "\n",
    "# Load the dataset\n",
    "df = pd.read_csv('IEA-EV-dataEV_salesCarsHistorical.csv')\n",
    "data = df.drop(['category', 'parameter', 'mode', 'unit'], axis=1)\n",
    "\n",
    "# Converting value column to a more usable log.\n",
    "data['log_value'] = data['value'].apply(lambda x: np.log(x))\n",
    "df = data\n",
    "\n",
    "encoded_data = pd.get_dummies(data, columns=['region', 'powertrain'])\n",
    "x = encoded_data.drop(['log_value', 'value'], axis=1)\n",
    "y = encoded_data[['log_value']]\n",
    "\n",
    "# Linear Regression Model\n",
    "linear_model = LinearRegression()\n",
    "linear_model.fit(x, y)\n",
    "linear_prediction = linear_model.predict(x)\n",
    "\n",
    "# SVR Model\n",
    "svr_model = SVR(kernel='linear')\n",
    "svr_model.fit(x, y)\n",
    "svr_prediction = svr_model.predict(x)\n",
    "\n",
    "# Reshape predictions to have the same shape\n",
    "linear_prediction = linear_prediction.reshape(-1)\n",
    "svr_prediction = svr_prediction.reshape(-1)\n",
    "\n",
    "linear_prediction = pd.DataFrame(linear_prediction, columns=['log_values'])\n",
    "svr_prediction = pd.DataFrame(svr_prediction, columns=['log_values'])\n",
    "\n",
    "linear_prediction['value'] = linear_prediction['log_values'].apply(lambda x: np.exp(x)).astype(int)\n",
    "svr_prediction['value'] = svr_prediction['log_values'].apply(lambda x: np.exp(x)).astype(int)\n",
    "linear_prediction\n",
    "linear_prediction['value'] = linear_prediction['log_values'].apply(lambda x: np.exp(x)).astype(int)\n",
    "svr_prediction['value'] = svr_prediction['log_values'].apply(lambda x: np.exp(x)).astype(int)\n",
    "# Hybrid Model: Row-wise Average of Linear Regression and SVR Predictions\n",
    "hybrid_prediction = np.mean([linear_prediction['value'], svr_prediction['value']], axis=0)\n",
    "\n",
    "\n"
   ]
  },
  {
   "cell_type": "code",
   "execution_count": 4,
   "metadata": {},
   "outputs": [
    {
     "name": "stdout",
     "output_type": "stream",
     "text": [
      "R squared Error: 0.853464799078494\n",
      "Root Mean Squared Error (RMSE): 155796.20045358033\n"
     ]
    }
   ],
   "source": [
    "# Checking error of the hybrid model with previous values\n",
    "from sklearn import metrics\n",
    "\n",
    "# Create DataFrame of predicted values\n",
    "hybrid_prediction = pd.DataFrame(hybrid_prediction, columns=['value'])\n",
    "\n",
    "# Converting back to usable values from log_values using exp\n",
    "\n",
    "\n",
    "# R squared Error\n",
    "error_score = metrics.r2_score(data['value'], hybrid_prediction['value'])\n",
    "print(\"R squared Error:\", error_score)\n",
    "# Calculate RMSE\n",
    "error_score = np.sqrt(mean_squared_error(data['value'], hybrid_prediction['value']))\n",
    "print(\"Root Mean Squared Error (RMSE):\", error_score)"
   ]
  },
  {
   "cell_type": "code",
   "execution_count": 5,
   "metadata": {},
   "outputs": [
    {
     "data": {
      "text/html": [
       "<div>\n",
       "<style scoped>\n",
       "    .dataframe tbody tr th:only-of-type {\n",
       "        vertical-align: middle;\n",
       "    }\n",
       "\n",
       "    .dataframe tbody tr th {\n",
       "        vertical-align: top;\n",
       "    }\n",
       "\n",
       "    .dataframe thead th {\n",
       "        text-align: right;\n",
       "    }\n",
       "</style>\n",
       "<table border=\"1\" class=\"dataframe\">\n",
       "  <thead>\n",
       "    <tr style=\"text-align: right;\">\n",
       "      <th></th>\n",
       "      <th>value</th>\n",
       "    </tr>\n",
       "  </thead>\n",
       "  <tbody>\n",
       "    <tr>\n",
       "      <th>0</th>\n",
       "      <td>70.5</td>\n",
       "    </tr>\n",
       "    <tr>\n",
       "      <th>1</th>\n",
       "      <td>118.5</td>\n",
       "    </tr>\n",
       "    <tr>\n",
       "      <th>2</th>\n",
       "      <td>73.0</td>\n",
       "    </tr>\n",
       "    <tr>\n",
       "      <th>3</th>\n",
       "      <td>123.0</td>\n",
       "    </tr>\n",
       "    <tr>\n",
       "      <th>4</th>\n",
       "      <td>200.0</td>\n",
       "    </tr>\n",
       "    <tr>\n",
       "      <th>...</th>\n",
       "      <td>...</td>\n",
       "    </tr>\n",
       "    <tr>\n",
       "      <th>829</th>\n",
       "      <td>1709935.5</td>\n",
       "    </tr>\n",
       "    <tr>\n",
       "      <th>830</th>\n",
       "      <td>2877388.0</td>\n",
       "    </tr>\n",
       "    <tr>\n",
       "      <th>831</th>\n",
       "      <td>4755404.5</td>\n",
       "    </tr>\n",
       "    <tr>\n",
       "      <th>832</th>\n",
       "      <td>8026379.5</td>\n",
       "    </tr>\n",
       "    <tr>\n",
       "      <th>833</th>\n",
       "      <td>4843741.5</td>\n",
       "    </tr>\n",
       "  </tbody>\n",
       "</table>\n",
       "<p>834 rows × 1 columns</p>\n",
       "</div>"
      ],
      "text/plain": [
       "         value\n",
       "0         70.5\n",
       "1        118.5\n",
       "2         73.0\n",
       "3        123.0\n",
       "4        200.0\n",
       "..         ...\n",
       "829  1709935.5\n",
       "830  2877388.0\n",
       "831  4755404.5\n",
       "832  8026379.5\n",
       "833  4843741.5\n",
       "\n",
       "[834 rows x 1 columns]"
      ]
     },
     "execution_count": 5,
     "metadata": {},
     "output_type": "execute_result"
    }
   ],
   "source": [
    "hybrid_prediction"
   ]
  },
  {
   "cell_type": "code",
   "execution_count": 6,
   "metadata": {},
   "outputs": [
    {
     "data": {
      "image/png": "[encoded data removed]",
      "text/plain": [
       "<Figure size 1000x600 with 1 Axes>"
      ]
     },
     "metadata": {},
     "output_type": "display_data"
    }
   ],
   "source": [
    "# Plotting the training error\n",
    "plt.figure(figsize=(10, 6))\n",
    "plt.plot(data.index, data['value'], label='Actual Value')\n",
    "plt.plot(data.index, hybrid_prediction['value'], label='Predicted Value')\n",
    "plt.xlabel('Index')\n",
    "plt.ylabel('Value')\n",
    "plt.title('Actual vs Predicted Values')\n",
    "plt.legend()\n",
    "plt.show()"
   ]
  },
  {
   "cell_type": "code",
   "execution_count": 7,
   "metadata": {},
   "outputs": [],
   "source": [
    "future_data=pd.DataFrame({'year': [2023,2024,2025],\n",
    "             'region': ['India','India','India'],\n",
    "             'powertrain': ['BEV','BEV','BEV']})\n",
    "future_data\n",
    "# Perform one-hot encoding on the future data using the original encoder\n",
    "encoded_future_data = pd.get_dummies(future_data, columns=['region', 'powertrain'])\n",
    "\n",
    "encoded_future_data = encoded_future_data.reindex(columns=encoded_data.columns[:], fill_value=0)\n",
    "encoded_future_data\n",
    "# Remove the 'value' column from the encoded future data\n",
    "encoded_future_data = encoded_future_data.drop(['value','log_value'], axis=1)\n",
    "# Predict the values for future years\n",
    "\n",
    "linear_prediction_future = linear_model.predict(encoded_future_data)\n",
    "\n",
    "\n",
    "svr_prediction_future = svr_model.predict(encoded_future_data)\n",
    "\n",
    "# Reshape predictions to have the same shape\n",
    "linear_prediction_future = linear_prediction_future.reshape(-1)\n",
    "svr_prediction_future = svr_prediction_future.reshape(-1)\n",
    "\n",
    "linear_prediction_future = pd.DataFrame(linear_prediction_future, columns=['log_values'])\n",
    "svr_prediction_future = pd.DataFrame(svr_prediction_future, columns=['log_values'])\n",
    "\n",
    "linear_prediction_future['value'] = linear_prediction_future['log_values'].apply(lambda x: np.exp(x)).astype(int)\n",
    "svr_prediction_future['value'] = svr_prediction_future['log_values'].apply(lambda x: np.exp(x)).astype(int)\n",
    "linear_prediction\n",
    "linear_prediction_future['value'] = linear_prediction_future['log_values'].apply(lambda x: np.exp(x)).astype(int)\n",
    "svr_prediction_future['value'] = svr_prediction_future['log_values'].apply(lambda x: np.exp(x)).astype(int)\n",
    "# Hybrid Model: Row-wise Average of Linear Regression and SVR Predictions\n",
    "hybrid_prediction_future = np.mean([linear_prediction_future['value'], svr_prediction_future['value']], axis=0).astype(int)"
   ]
  },
  {
   "cell_type": "code",
   "execution_count": 8,
   "metadata": {},
   "outputs": [
    {
     "data": {
      "text/html": [
       "<div>\n",
       "<style scoped>\n",
       "    .dataframe tbody tr th:only-of-type {\n",
       "        vertical-align: middle;\n",
       "    }\n",
       "\n",
       "    .dataframe tbody tr th {\n",
       "        vertical-align: top;\n",
       "    }\n",
       "\n",
       "    .dataframe thead th {\n",
       "        text-align: right;\n",
       "    }\n",
       "</style>\n",
       "<table border=\"1\" class=\"dataframe\">\n",
       "  <thead>\n",
       "    <tr style=\"text-align: right;\">\n",
       "      <th></th>\n",
       "      <th>value</th>\n",
       "    </tr>\n",
       "  </thead>\n",
       "  <tbody>\n",
       "    <tr>\n",
       "      <th>0</th>\n",
       "      <td>20615</td>\n",
       "    </tr>\n",
       "    <tr>\n",
       "      <th>1</th>\n",
       "      <td>34509</td>\n",
       "    </tr>\n",
       "    <tr>\n",
       "      <th>2</th>\n",
       "      <td>57787</td>\n",
       "    </tr>\n",
       "  </tbody>\n",
       "</table>\n",
       "</div>"
      ],
      "text/plain": [
       "   value\n",
       "0  20615\n",
       "1  34509\n",
       "2  57787"
      ]
     },
     "execution_count": 8,
     "metadata": {},
     "output_type": "execute_result"
    }
   ],
   "source": [
    "hybrid_prediction_future = pd.DataFrame(hybrid_prediction_future,columns=['value'])\n",
    "hybrid_prediction_future"
   ]
  },
  {
   "cell_type": "code",
   "execution_count": null,
   "metadata": {},
   "outputs": [],
   "source": []
  }
 ],
 "metadata": {
  "kernelspec": {
   "display_name": "base",
   "language": "python",
   "name": "python3"
  },
  "language_info": {
   "codemirror_mode": {
    "name": "ipython",
    "version": 3
   },
   "file_extension": ".py",
   "mimetype": "text/x-python",
   "name": "python",
   "nbconvert_exporter": "python",
   "pygments_lexer": "ipython3",
   "version": "3.9.13"
  },
  "orig_nbformat": 4
 },
 "nbformat": 4,
 "nbformat_minor": 2
}
